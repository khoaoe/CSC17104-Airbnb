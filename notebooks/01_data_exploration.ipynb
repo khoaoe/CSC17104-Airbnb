{
 "cells": [
  {
   "cell_type": "markdown",
   "id": "607fb287",
   "metadata": {},
   "source": [
    "# 01 — Data Exploration \n",
    "- Tải `AB_NYC_2019.csv` (nếu chưa có) bằng Kaggle CLI\n",
    "- Đọc CSV *không dùng pandas* (chỉ csv + numpy) qua `src.data_processing`\n",
    "- In report: shape, cột quan trọng, unique của nhóm/kind, NA, phạm vi availability_365"
   ]
  },
  {
   "cell_type": "code",
   "execution_count": null,
   "id": "8520abc1",
   "metadata": {},
   "outputs": [],
   "source": [
    "# thêm project root (thư mục chứa 'src/') vào sys.path\n",
    "from pathlib import Path\n",
    "import sys\n",
    "\n",
    "ROOT = Path.cwd()\n",
    "while not (ROOT / \"src\").is_dir() and ROOT.parent != ROOT:\n",
    "    ROOT = ROOT.parent\n",
    "\n",
    "sys.path.append(str(ROOT))\n",
    "\n",
    "# import hàm để load dữ liệu\n",
    "from src import load_and_check "
   ]
  },
  {
   "cell_type": "markdown",
   "id": "cb3abe30",
   "metadata": {},
   "source": [
    "## 1. Tải & kiểm tra dữ liệu"
   ]
  },
  {
   "cell_type": "code",
   "execution_count": null,
   "id": "9e44c3cd",
   "metadata": {},
   "outputs": [],
   "source": [
    "report = load_and_check(root=str(ROOT / \"data\" / \"raw\"))"
   ]
  }
 ],
 "metadata": {
  "language_info": {
   "name": "python"
  }
 },
 "nbformat": 4,
 "nbformat_minor": 5
}
